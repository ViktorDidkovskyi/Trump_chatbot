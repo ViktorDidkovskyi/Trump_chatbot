{
 "cells": [
  {
   "cell_type": "markdown",
   "metadata": {},
   "source": [
    "# About"
   ]
  },
  {
   "cell_type": "markdown",
   "metadata": {},
   "source": [
    "The goal of this notebook is to experiment with the dataset:\n",
    "* Wikipedia\n",
    "* tweets https://github.com/mkearney/trumptweets/tree/master/data and https://www.kaggle.com/austinreese/trump-tweets\n",
    "* trump speech https://www.kaggle.com/christianlillelund/donald-trumps-rallies\n",
    "    \n",
    "Using the model to generate questions for the text https://github.com/patil-suraj/question_generation"
   ]
  },
  {
   "cell_type": "code",
   "execution_count": 1,
   "metadata": {},
   "outputs": [
    {
     "data": {
      "text/html": [
       "<style>.container { width:100% !important; }</style>"
      ],
      "text/plain": [
       "<IPython.core.display.HTML object>"
      ]
     },
     "metadata": {},
     "output_type": "display_data"
    }
   ],
   "source": [
    "from IPython.core.display import display, HTML\n",
    "display(HTML(\"<style>.container { width:100% !important; }</style>\"))"
   ]
  },
  {
   "cell_type": "code",
   "execution_count": 3,
   "metadata": {},
   "outputs": [
    {
     "name": "stdout",
     "output_type": "stream",
     "text": [
      "/Users/viktor/opt/anaconda3/lib/python3.8/runpy.py:127: RuntimeWarning: 'nltk.downloader' found in sys.modules after import of package 'nltk', but prior to execution of 'nltk.downloader'; this may result in unpredictable behaviour\n",
      "  warn(RuntimeWarning(msg))\n",
      "[nltk_data] Downloading package punkt to /Users/viktor/nltk_data...\n",
      "[nltk_data]   Package punkt is already up-to-date!\n",
      "fatal: destination path 'question_generation' already exists and is not an empty directory.\n"
     ]
    }
   ],
   "source": [
    "! pip install wikipedia --quiet\n",
    "! pip install -U transformers==3.0.0 --quiet\n",
    "! python -m nltk.downloader punkt\n",
    "\n",
    "! git clone https://github.com/patil-suraj/question_generation.git\n",
    "    "
   ]
  },
  {
   "cell_type": "code",
   "execution_count": 25,
   "metadata": {},
   "outputs": [],
   "source": [
    "import pandas as pd\n",
    "import os\n",
    "import wikipedia\n",
    "import glob "
   ]
  },
  {
   "cell_type": "markdown",
   "metadata": {},
   "source": [
    "### Example of model"
   ]
  },
  {
   "cell_type": "code",
   "execution_count": 5,
   "metadata": {},
   "outputs": [
    {
     "data": {
      "text/plain": [
       "[{'answer': '42',\n",
       "  'question': 'What is the answer to life, the universe and everything?'}]"
      ]
     },
     "execution_count": 5,
     "metadata": {},
     "output_type": "execute_result"
    }
   ],
   "source": [
    "from question_generation.pipelines import pipeline\n",
    "\n",
    "nlp = pipeline(\"question-generation\")\n",
    "nlp(\"42 is the answer to life, the universe and everything.\")"
   ]
  },
  {
   "cell_type": "code",
   "execution_count": 7,
   "metadata": {},
   "outputs": [
    {
     "data": {
      "text/plain": [
       "[{'answer': 'Python',\n",
       "  'question': 'What language was created by Guido van Rossum?'},\n",
       " {'answer': 'Guido van Rossum', 'question': 'Who created Python?'},\n",
       " {'answer': '1991', 'question': 'When was Python first released?'}]"
      ]
     },
     "execution_count": 7,
     "metadata": {},
     "output_type": "execute_result"
    }
   ],
   "source": [
    "nlp_multi_qg = pipeline(\"multitask-qa-qg\")\n",
    "nlp_qg = pipeline(\"question-generation\")\n",
    "nlp_e2e_qg = pipeline(\"e2e-qg\")\n",
    "nlp_multi_qg(\"Python is a programming language. Created by Guido van Rossum and first released in 1991.\")\n"
   ]
  },
  {
   "cell_type": "code",
   "execution_count": 8,
   "metadata": {},
   "outputs": [
    {
     "data": {
      "text/plain": [
       "[{'answer': 'Python', 'question': 'What is a programming language?'},\n",
       " {'answer': 'Guido van Rossum', 'question': 'Who created Python?'},\n",
       " {'answer': '1991', 'question': 'When was Python first released?'}]"
      ]
     },
     "execution_count": 8,
     "metadata": {},
     "output_type": "execute_result"
    }
   ],
   "source": [
    "nlp_qg(\"Python is a programming language. Created by Guido van Rossum and first released in 1991.\")\n",
    "\n"
   ]
  },
  {
   "cell_type": "code",
   "execution_count": 9,
   "metadata": {},
   "outputs": [
    {
     "data": {
      "text/plain": [
       "['What is a programming language?',\n",
       " 'Who created Python?',\n",
       " 'When was Python first released?']"
      ]
     },
     "execution_count": 9,
     "metadata": {},
     "output_type": "execute_result"
    }
   ],
   "source": [
    "nlp_e2e_qg(\"Python is a programming language. Created by Guido van Rossum and first released in 1991.\")\n",
    "\n"
   ]
  },
  {
   "cell_type": "markdown",
   "metadata": {},
   "source": [
    "## Using the model to generate question on Wikipedia data"
   ]
  },
  {
   "cell_type": "code",
   "execution_count": 101,
   "metadata": {},
   "outputs": [
    {
     "data": {
      "text/plain": [
       "'Donald John Trump (born June 14, 1946) is the 45th and current president of the United States.'"
      ]
     },
     "execution_count": 101,
     "metadata": {},
     "output_type": "execute_result"
    }
   ],
   "source": [
    "wikipedia.summary(\"Donald Trump\", sentences=1)"
   ]
  },
  {
   "cell_type": "code",
   "execution_count": 11,
   "metadata": {},
   "outputs": [
    {
     "data": {
      "text/plain": [
       "[{'answer': 'June 14, 1946', 'question': 'When was Donald John Trump born?'},\n",
       " {'answer': 'Donald John Trump',\n",
       "  'question': 'Who is the 45th president of the United States?'}]"
      ]
     },
     "execution_count": 11,
     "metadata": {},
     "output_type": "execute_result"
    }
   ],
   "source": [
    "nlp_qg(wikipedia.summary(\"Donald Trump\", sentences=1))"
   ]
  },
  {
   "cell_type": "markdown",
   "metadata": {},
   "source": [
    "## Let's generate question on tweets"
   ]
  },
  {
   "cell_type": "code",
   "execution_count": 12,
   "metadata": {},
   "outputs": [],
   "source": [
    "path_to_data = os.getcwd() + \"/data\""
   ]
  },
  {
   "cell_type": "code",
   "execution_count": 13,
   "metadata": {},
   "outputs": [],
   "source": [
    "trump_tweets = pd.read_csv(path_to_data+\"/tweets/final-trump.csv\", engine='python', usecols=['tweet_id', 'tweet_text']).drop_duplicates().reset_index(drop=True)"
   ]
  },
  {
   "cell_type": "code",
   "execution_count": 17,
   "metadata": {},
   "outputs": [
    {
     "data": {
      "text/html": [
       "<div>\n",
       "<style scoped>\n",
       "    .dataframe tbody tr th:only-of-type {\n",
       "        vertical-align: middle;\n",
       "    }\n",
       "\n",
       "    .dataframe tbody tr th {\n",
       "        vertical-align: top;\n",
       "    }\n",
       "\n",
       "    .dataframe thead th {\n",
       "        text-align: right;\n",
       "    }\n",
       "</style>\n",
       "<table border=\"1\" class=\"dataframe\">\n",
       "  <thead>\n",
       "    <tr style=\"text-align: right;\">\n",
       "      <th></th>\n",
       "      <th>tweet_id</th>\n",
       "      <th>tweet_text</th>\n",
       "    </tr>\n",
       "  </thead>\n",
       "  <tbody>\n",
       "    <tr>\n",
       "      <th>0</th>\n",
       "      <td>1179422987684077568</td>\n",
       "      <td>The Do Nothing Democrats should be focused on ...</td>\n",
       "    </tr>\n",
       "    <tr>\n",
       "      <th>1</th>\n",
       "      <td>1197503790729121794</td>\n",
       "      <td>Corrupt politician Adam Schiff’s lies are grow...</td>\n",
       "    </tr>\n",
       "    <tr>\n",
       "      <th>2</th>\n",
       "      <td>1163961882945970176</td>\n",
       "      <td>Denmark is a very special country with incredi...</td>\n",
       "    </tr>\n",
       "    <tr>\n",
       "      <th>3</th>\n",
       "      <td>1211969354499284992</td>\n",
       "      <td>The Democrats will do anything to avoid a tria...</td>\n",
       "    </tr>\n",
       "    <tr>\n",
       "      <th>4</th>\n",
       "      <td>1212121012151689217</td>\n",
       "      <td>The U.S. Embassy in Iraq is, &amp; has been for ho...</td>\n",
       "    </tr>\n",
       "  </tbody>\n",
       "</table>\n",
       "</div>"
      ],
      "text/plain": [
       "              tweet_id                                         tweet_text\n",
       "0  1179422987684077568  The Do Nothing Democrats should be focused on ...\n",
       "1  1197503790729121794  Corrupt politician Adam Schiff’s lies are grow...\n",
       "2  1163961882945970176  Denmark is a very special country with incredi...\n",
       "3  1211969354499284992  The Democrats will do anything to avoid a tria...\n",
       "4  1212121012151689217  The U.S. Embassy in Iraq is, & has been for ho..."
      ]
     },
     "execution_count": 17,
     "metadata": {},
     "output_type": "execute_result"
    }
   ],
   "source": [
    "trump_tweets.head()"
   ]
  },
  {
   "cell_type": "code",
   "execution_count": 21,
   "metadata": {},
   "outputs": [],
   "source": [
    "tweet = trump_tweets.loc[0, 'tweet_text']"
   ]
  },
  {
   "cell_type": "code",
   "execution_count": 24,
   "metadata": {},
   "outputs": [
    {
     "data": {
      "text/plain": [
       "[{'answer': 'BULLSHIT',\n",
       "  'question': 'What is the name of the organization that the Do Nothing Democrats should not waste their time and energy on?'},\n",
       " {'answer': 'you’ll need it!',\n",
       "  'question': 'What do Do Nothing Democrats need to do to get a better candidate?'}]"
      ]
     },
     "execution_count": 24,
     "metadata": {},
     "output_type": "execute_result"
    }
   ],
   "source": [
    "nlp_qg(tweet)"
   ]
  },
  {
   "cell_type": "code",
   "execution_count": 22,
   "metadata": {},
   "outputs": [
    {
     "name": "stdout",
     "output_type": "stream",
     "text": [
      "The Do Nothing Democrats should be focused on building up our Country, not wasting everyone’s time and energy on BULLSHIT, which is what they have been doing ever since I got overwhelmingly elected in 2016, 223-306\n",
      " Get a better candidate this time, you’ll need it!\n"
     ]
    }
   ],
   "source": [
    "for twe in tweet.split('.'):\n",
    "    print(twe)"
   ]
  },
  {
   "cell_type": "code",
   "execution_count": 23,
   "metadata": {},
   "outputs": [
    {
     "name": "stdout",
     "output_type": "stream",
     "text": [
      "[{'answer': 'BULLSHIT', 'question': 'What does Do Nothing Democrats spend their time and energy on?'}]\n",
      "[{'answer': 'Get a better candidate', 'question': 'What type of candidate will you need this time?'}]\n"
     ]
    }
   ],
   "source": [
    "for twe in tweet.split('.'):\n",
    "    print(nlp_qg(twe))"
   ]
  },
  {
   "cell_type": "markdown",
   "metadata": {},
   "source": [
    "## Let's genarete questions based on Trump speech"
   ]
  },
  {
   "cell_type": "code",
   "execution_count": 29,
   "metadata": {},
   "outputs": [],
   "source": [
    "one_speech_path = glob.glob(path_to_data + \"/speech/*.txt\")[1]"
   ]
  },
  {
   "cell_type": "code",
   "execution_count": 36,
   "metadata": {},
   "outputs": [],
   "source": [
    "with open(one_speech_path, 'r') as fd:\n",
    "    speech_text = fd.read()"
   ]
  },
  {
   "cell_type": "code",
   "execution_count": 41,
   "metadata": {},
   "outputs": [
    {
     "data": {
      "text/plain": [
       "'ell, thank you very much. And hello, Tupelo. This is great to be with you tonight, the great state of Mississippi. The great state of Mississippi, and by the way, the birthplace of a gentleman, not too many people heard of him, Elvis Presley. But to be with thousands of incredible patriots who put t'"
      ]
     },
     "execution_count": 41,
     "metadata": {},
     "output_type": "execute_result"
    }
   ],
   "source": [
    "speech_text_sample = speech_text[:300]\n",
    "speech_text_sample"
   ]
  },
  {
   "cell_type": "code",
   "execution_count": 33,
   "metadata": {},
   "outputs": [
    {
     "data": {
      "text/plain": [
       "[{'answer': 'thank you',\n",
       "  'question': 'What did Tupelo say very much about Elvis Presley?'},\n",
       " {'answer': 'Tupelo', 'question': \"Who was Elvis Presley's birthplace?\"},\n",
       " {'answer': 'tonight', 'question': 'What is the great state of Mississippi?'},\n",
       " {'answer': 'Elvis Presley', 'question': 'Who was the birthplace of Tupelo?'},\n",
       " {'answer': 'thousands',\n",
       "  'question': 'How many incredible patriots were there to be with Tupelo?'}]"
      ]
     },
     "execution_count": 33,
     "metadata": {},
     "output_type": "execute_result"
    }
   ],
   "source": [
    "nlp_qg(speech_text_sample)"
   ]
  },
  {
   "cell_type": "markdown",
   "metadata": {},
   "source": [
    "# Conclusion\n",
    "\n",
    "Using the model to generate questions we can improve our dataset by adding more Trump's information.\n",
    "The most difficult to convert speech and text to conversion with context. One option to split the text into sentences and for each sentence asks a question, as a result, we will have a conversion. This direction should be investigated.."
   ]
  },
  {
   "cell_type": "code",
   "execution_count": null,
   "metadata": {},
   "outputs": [],
   "source": []
  }
 ],
 "metadata": {
  "kernelspec": {
   "display_name": "Python 3",
   "language": "python",
   "name": "python3"
  },
  "language_info": {
   "codemirror_mode": {
    "name": "ipython",
    "version": 3
   },
   "file_extension": ".py",
   "mimetype": "text/x-python",
   "name": "python",
   "nbconvert_exporter": "python",
   "pygments_lexer": "ipython3",
   "version": "3.8.5"
  }
 },
 "nbformat": 4,
 "nbformat_minor": 4
}
